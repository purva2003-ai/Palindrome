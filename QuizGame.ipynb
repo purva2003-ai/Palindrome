{
  "nbformat": 4,
  "nbformat_minor": 0,
  "metadata": {
    "colab": {
      "provenance": [],
      "authorship_tag": "ABX9TyPhOLS2bMgGy+yVwPA7IO1J",
      "include_colab_link": true
    },
    "kernelspec": {
      "name": "python3",
      "display_name": "Python 3"
    },
    "language_info": {
      "name": "python"
    }
  },
  "cells": [
    {
      "cell_type": "markdown",
      "metadata": {
        "id": "view-in-github",
        "colab_type": "text"
      },
      "source": [
        "<a href=\"https://colab.research.google.com/github/purva2003-ai/Palindrome/blob/main/QuizGame.ipynb\" target=\"_parent\"><img src=\"https://colab.research.google.com/assets/colab-badge.svg\" alt=\"Open In Colab\"/></a>"
      ]
    },
    {
      "cell_type": "code",
      "execution_count": 1,
      "metadata": {
        "colab": {
          "base_uri": "https://localhost:8080/"
        },
        "id": "qUVIPEI7mk2R",
        "outputId": "2ca6e9e5-7653-4571-ad5f-d4973901a161"
      },
      "outputs": [
        {
          "output_type": "stream",
          "name": "stdout",
          "text": [
            "What is the capital of India?\n",
            "A) Delhi\n",
            "B) Mumbai\n",
            "C) Kolkata\n",
            "D) Manipur\n",
            "Enter your answer: a\n",
            "Wrong! The correct answer is B\n",
            "\n",
            "Which planet is Closer to Sun?\n",
            "A) Venus\n",
            "B) Mercury\n",
            "C) Jupiter\n",
            "D) Saturn\n",
            "Enter your answer: b\n",
            "Correct!\n",
            "\n",
            "What is the largest mammal in the world?\n",
            "A) Elephant\n",
            "B) Blue Whale\n",
            "C) Giraffe\n",
            "D) Lion\n",
            "Enter your answer: 1\n",
            "Wrong! The correct answer is B\n",
            "\n",
            "Your final score is: 1/3\n"
          ]
        }
      ],
      "source": [
        "# Define a list of questions with options and correct answers\n",
        "questions = [\n",
        "    {\n",
        "        \"question\": \"What is the capital of India?\",\n",
        "        \"options\": [\"A) Delhi\", \"B) Mumbai\", \"C) Kolkata\", \"D) Manipur\"],\n",
        "        \"correct_answer\": \"B\",\n",
        "    },\n",
        "    {\n",
        "        \"question\": \"Which planet is Closer to Sun?\",\n",
        "        \"options\": [\"A) Venus\", \"B) Mercury\", \"C) Jupiter\", \"D) Saturn\"],\n",
        "        \"correct_answer\": \"B\",\n",
        "    },\n",
        "    {\n",
        "        \"question\": \"What is the largest mammal in the world?\",\n",
        "        \"options\": [\"A) Elephant\", \"B) Blue Whale\", \"C) Giraffe\", \"D) Lion\"],\n",
        "        \"correct_answer\": \"B\",\n",
        "    },\n",
        "]\n",
        "\n",
        "# Initialize the score\n",
        "score = 0\n",
        "\n",
        "# Function to display a question and check the answer\n",
        "def ask_question(question_data):\n",
        "    global score\n",
        "    print(question_data[\"question\"])\n",
        "    for option in question_data[\"options\"]:\n",
        "        print(option)\n",
        "\n",
        "    user_answer = input(\"Enter your answer: \").strip().upper()\n",
        "\n",
        "    if user_answer == question_data[\"correct_answer\"]:\n",
        "        print(\"Correct!\\n\")\n",
        "        score += 1\n",
        "    else:\n",
        "        print(f\"Wrong! The correct answer is {question_data['correct_answer']}\\n\")\n",
        "\n",
        "# Loop through each question\n",
        "for question in questions:\n",
        "    ask_question(question)\n",
        "\n",
        "# Display the final score\n",
        "print(f\"Your final score is: {score}/{len(questions)}\")\n"
      ]
    }
  ]
}