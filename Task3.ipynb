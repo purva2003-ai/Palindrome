{
  "cells": [
    {
      "cell_type": "markdown",
      "metadata": {
        "id": "view-in-github",
        "colab_type": "text"
      },
      "source": [
        "<a href=\"https://colab.research.google.com/github/purva2003-ai/Palindrome/blob/main/Task3.ipynb\" target=\"_parent\"><img src=\"https://colab.research.google.com/assets/colab-badge.svg\" alt=\"Open In Colab\"/></a>"
      ]
    },
    {
      "cell_type": "code",
      "execution_count": null,
      "metadata": {
        "colab": {
          "base_uri": "https://localhost:8080/"
        },
        "id": "DZhm5hx4NB0d",
        "outputId": "c44de646-a4d1-4494-df15-8047ff48c5ca"
      },
      "outputs": [
        {
          "output_type": "stream",
          "name": "stdout",
          "text": [
            "User: Goodbye\n",
            "Chatbot: Goodbye! Have a great day!\n"
          ]
        }
      ],
      "source": [
        "Questions = {\n",
        "    \"What is your name?\": \"I'm Chatbot 2.4 .\",\n",
        "    \"How are you?\": \"I'm fine Thank you, What about you?\",\n",
        "    \"Where do you live?\": \"I live in few Electrical object (after few days few will be replaced by every).\",\n",
        "    \"Goodbye\": \"Goodbye! Have a great day!\"\n",
        "}\n",
        "\n",
        "def chatbot(input_text):\n",
        "    input_text = input_text.lower()\n",
        "\n",
        "    for question, response in Questions.items():\n",
        "        if input_text in question.lower():\n",
        "            return response\n",
        "\n",
        "\n",
        "    return \"I'm sorry, Im unable to understand the question.\"\n",
        "\n",
        "user_input = input(\"User: \")\n",
        "while user_input.lower() != \"end\":\n",
        "    response = chatbot(user_input)\n",
        "    print(\"Chatbot:\", response)\n",
        "    user_input = input(\"User: \")"
      ]
    },
    {
      "cell_type": "code",
      "execution_count": null,
      "metadata": {
        "id": "NdjuiqNxNhOF"
      },
      "outputs": [],
      "source": []
    }
  ],
  "metadata": {
    "colab": {
      "provenance": [],
      "authorship_tag": "ABX9TyOfl/xM7swyk37LQJyGy80m",
      "include_colab_link": true
    },
    "kernelspec": {
      "display_name": "Python 3",
      "name": "python3"
    },
    "language_info": {
      "name": "python"
    }
  },
  "nbformat": 4,
  "nbformat_minor": 0
}